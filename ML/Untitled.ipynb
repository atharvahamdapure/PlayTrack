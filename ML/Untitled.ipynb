{
 "cells": [
  {
   "cell_type": "code",
   "execution_count": 36,
   "id": "254aa83d",
   "metadata": {},
   "outputs": [],
   "source": [
    "import pandas as pd\n",
    "import numpy as np\n",
    "from sklearn.model_selection import train_test_split\n",
    "from sklearn.ensemble import RandomForestClassifier\n",
    "from sklearn.metrics import classification_report, confusion_matrix"
   ]
  },
  {
   "cell_type": "code",
   "execution_count": 37,
   "id": "bc0a9d41",
   "metadata": {},
   "outputs": [],
   "source": [
    "df = pd.read_csv('C:/Users/91932/Desktop/Project/Program/speed_distance_data.csv')"
   ]
  },
  {
   "cell_type": "code",
   "execution_count": 38,
   "id": "545194f3",
   "metadata": {},
   "outputs": [
    {
     "name": "stdout",
     "output_type": "stream",
     "text": [
      "Data Preview:\n",
      "   frame_num   object  track_id  speed_km_h  distance_m\n",
      "0          0  players         1    7.843255    0.453892\n",
      "1          0  players         2    8.241232    0.476923\n",
      "2          0  players         4    2.020500    0.116927\n",
      "3          0  players         6   11.455132    0.662913\n",
      "4          0  players         7    0.305258    0.017665\n"
     ]
    }
   ],
   "source": [
    "print(\"Data Preview:\")\n",
    "print(df.head())"
   ]
  },
  {
   "cell_type": "code",
   "execution_count": 39,
   "id": "26dd934f",
   "metadata": {},
   "outputs": [],
   "source": [
    "# Target Variable = speed\n",
    "threshold_speed = df['speed_km_h'].mean() * 0.75  \n",
    "df['performance_drop'] = (df['speed_km_h'] < threshold_speed).astype(int)"
   ]
  },
  {
   "cell_type": "code",
   "execution_count": 40,
   "id": "d76bb786",
   "metadata": {},
   "outputs": [],
   "source": [
    "# features and target variable\n",
    "X = df[['speed_km_h', 'distance_m']]\n",
    "y = df['performance_drop']"
   ]
  },
  {
   "cell_type": "code",
   "execution_count": 41,
   "id": "7b37ecc5",
   "metadata": {},
   "outputs": [],
   "source": [
    "X_train, X_test, y_train, y_test = train_test_split(X, y, test_size=0.2, random_state=42)"
   ]
  },
  {
   "cell_type": "code",
   "execution_count": 42,
   "id": "71d77b3f",
   "metadata": {},
   "outputs": [
    {
     "data": {
      "text/html": [
       "<style>#sk-container-id-3 {color: black;background-color: white;}#sk-container-id-3 pre{padding: 0;}#sk-container-id-3 div.sk-toggleable {background-color: white;}#sk-container-id-3 label.sk-toggleable__label {cursor: pointer;display: block;width: 100%;margin-bottom: 0;padding: 0.3em;box-sizing: border-box;text-align: center;}#sk-container-id-3 label.sk-toggleable__label-arrow:before {content: \"▸\";float: left;margin-right: 0.25em;color: #696969;}#sk-container-id-3 label.sk-toggleable__label-arrow:hover:before {color: black;}#sk-container-id-3 div.sk-estimator:hover label.sk-toggleable__label-arrow:before {color: black;}#sk-container-id-3 div.sk-toggleable__content {max-height: 0;max-width: 0;overflow: hidden;text-align: left;background-color: #f0f8ff;}#sk-container-id-3 div.sk-toggleable__content pre {margin: 0.2em;color: black;border-radius: 0.25em;background-color: #f0f8ff;}#sk-container-id-3 input.sk-toggleable__control:checked~div.sk-toggleable__content {max-height: 200px;max-width: 100%;overflow: auto;}#sk-container-id-3 input.sk-toggleable__control:checked~label.sk-toggleable__label-arrow:before {content: \"▾\";}#sk-container-id-3 div.sk-estimator input.sk-toggleable__control:checked~label.sk-toggleable__label {background-color: #d4ebff;}#sk-container-id-3 div.sk-label input.sk-toggleable__control:checked~label.sk-toggleable__label {background-color: #d4ebff;}#sk-container-id-3 input.sk-hidden--visually {border: 0;clip: rect(1px 1px 1px 1px);clip: rect(1px, 1px, 1px, 1px);height: 1px;margin: -1px;overflow: hidden;padding: 0;position: absolute;width: 1px;}#sk-container-id-3 div.sk-estimator {font-family: monospace;background-color: #f0f8ff;border: 1px dotted black;border-radius: 0.25em;box-sizing: border-box;margin-bottom: 0.5em;}#sk-container-id-3 div.sk-estimator:hover {background-color: #d4ebff;}#sk-container-id-3 div.sk-parallel-item::after {content: \"\";width: 100%;border-bottom: 1px solid gray;flex-grow: 1;}#sk-container-id-3 div.sk-label:hover label.sk-toggleable__label {background-color: #d4ebff;}#sk-container-id-3 div.sk-serial::before {content: \"\";position: absolute;border-left: 1px solid gray;box-sizing: border-box;top: 0;bottom: 0;left: 50%;z-index: 0;}#sk-container-id-3 div.sk-serial {display: flex;flex-direction: column;align-items: center;background-color: white;padding-right: 0.2em;padding-left: 0.2em;position: relative;}#sk-container-id-3 div.sk-item {position: relative;z-index: 1;}#sk-container-id-3 div.sk-parallel {display: flex;align-items: stretch;justify-content: center;background-color: white;position: relative;}#sk-container-id-3 div.sk-item::before, #sk-container-id-3 div.sk-parallel-item::before {content: \"\";position: absolute;border-left: 1px solid gray;box-sizing: border-box;top: 0;bottom: 0;left: 50%;z-index: -1;}#sk-container-id-3 div.sk-parallel-item {display: flex;flex-direction: column;z-index: 1;position: relative;background-color: white;}#sk-container-id-3 div.sk-parallel-item:first-child::after {align-self: flex-end;width: 50%;}#sk-container-id-3 div.sk-parallel-item:last-child::after {align-self: flex-start;width: 50%;}#sk-container-id-3 div.sk-parallel-item:only-child::after {width: 0;}#sk-container-id-3 div.sk-dashed-wrapped {border: 1px dashed gray;margin: 0 0.4em 0.5em 0.4em;box-sizing: border-box;padding-bottom: 0.4em;background-color: white;}#sk-container-id-3 div.sk-label label {font-family: monospace;font-weight: bold;display: inline-block;line-height: 1.2em;}#sk-container-id-3 div.sk-label-container {text-align: center;}#sk-container-id-3 div.sk-container {/* jupyter's `normalize.less` sets `[hidden] { display: none; }` but bootstrap.min.css set `[hidden] { display: none !important; }` so we also need the `!important` here to be able to override the default hidden behavior on the sphinx rendered scikit-learn.org. See: https://github.com/scikit-learn/scikit-learn/issues/21755 */display: inline-block !important;position: relative;}#sk-container-id-3 div.sk-text-repr-fallback {display: none;}</style><div id=\"sk-container-id-3\" class=\"sk-top-container\"><div class=\"sk-text-repr-fallback\"><pre>RandomForestClassifier(random_state=42)</pre><b>In a Jupyter environment, please rerun this cell to show the HTML representation or trust the notebook. <br />On GitHub, the HTML representation is unable to render, please try loading this page with nbviewer.org.</b></div><div class=\"sk-container\" hidden><div class=\"sk-item\"><div class=\"sk-estimator sk-toggleable\"><input class=\"sk-toggleable__control sk-hidden--visually\" id=\"sk-estimator-id-3\" type=\"checkbox\" checked><label for=\"sk-estimator-id-3\" class=\"sk-toggleable__label sk-toggleable__label-arrow\">RandomForestClassifier</label><div class=\"sk-toggleable__content\"><pre>RandomForestClassifier(random_state=42)</pre></div></div></div></div></div>"
      ],
      "text/plain": [
       "RandomForestClassifier(random_state=42)"
      ]
     },
     "execution_count": 42,
     "metadata": {},
     "output_type": "execute_result"
    }
   ],
   "source": [
    "model = RandomForestClassifier(n_estimators=100, random_state=42)\n",
    "model.fit(X_train, y_train)"
   ]
  },
  {
   "cell_type": "code",
   "execution_count": 43,
   "id": "d145d1b8",
   "metadata": {},
   "outputs": [],
   "source": [
    "y_pred = model.predict(X_test)"
   ]
  },
  {
   "cell_type": "code",
   "execution_count": 44,
   "id": "e73f923e",
   "metadata": {},
   "outputs": [
    {
     "name": "stdout",
     "output_type": "stream",
     "text": [
      "Confusion Matrix:\n",
      "[[216   2]\n",
      " [  0 196]]\n",
      "\n",
      "Classification Report:\n",
      "              precision    recall  f1-score   support\n",
      "\n",
      "           0       1.00      0.99      1.00       218\n",
      "           1       0.99      1.00      0.99       196\n",
      "\n",
      "    accuracy                           1.00       414\n",
      "   macro avg       0.99      1.00      1.00       414\n",
      "weighted avg       1.00      1.00      1.00       414\n",
      "\n"
     ]
    }
   ],
   "source": [
    "# print(\"Confusion Matrix:\")\n",
    "# print(confusion_matrix(y_test, y_pred))\n",
    "# print(\"\\nClassification Report:\")\n",
    "# print(classification_report(y_test, y_pred))"
   ]
  },
  {
   "cell_type": "code",
   "execution_count": 45,
   "id": "764fe639",
   "metadata": {},
   "outputs": [],
   "source": [
    "fatigue_status = df.groupby('track_id')['performance_drop'].max().reset_index()"
   ]
  },
  {
   "cell_type": "code",
   "execution_count": 46,
   "id": "78de7c48",
   "metadata": {},
   "outputs": [],
   "source": [
    "fatigue_status['is_fatigue'] = fatigue_status['performance_drop'].apply(lambda x: 'Fatigue' if x == 1 else 'Not Fatigue')"
   ]
  },
  {
   "cell_type": "code",
   "execution_count": 48,
   "id": "94131f95",
   "metadata": {},
   "outputs": [],
   "source": [
    "fatigue_status = fatigue_status[['track_id', 'is_fatigue']]"
   ]
  },
  {
   "cell_type": "code",
   "execution_count": 49,
   "id": "fc997c94",
   "metadata": {},
   "outputs": [
    {
     "name": "stdout",
     "output_type": "stream",
     "text": [
      "\n",
      "Fatigue Status for Each Track ID:\n",
      "    track_id   is_fatigue\n",
      "0          1      Fatigue\n",
      "1          2      Fatigue\n",
      "2          4      Fatigue\n",
      "3          6      Fatigue\n",
      "4          7      Fatigue\n",
      "5          8      Fatigue\n",
      "6          9      Fatigue\n",
      "7         10      Fatigue\n",
      "8         11      Fatigue\n",
      "9         12      Fatigue\n",
      "10        14      Fatigue\n",
      "11        17      Fatigue\n",
      "12        18  Not Fatigue\n",
      "13        19      Fatigue\n",
      "14        23      Fatigue\n",
      "15        30      Fatigue\n",
      "16        44      Fatigue\n",
      "17        85  Not Fatigue\n",
      "18        93      Fatigue\n",
      "19        98      Fatigue\n",
      "20       100      Fatigue\n",
      "21       109      Fatigue\n",
      "22       110      Fatigue\n",
      "23       111  Not Fatigue\n",
      "24       121      Fatigue\n",
      "25       123      Fatigue\n",
      "26       126      Fatigue\n",
      "27       127      Fatigue\n",
      "28       166      Fatigue\n",
      "29       179      Fatigue\n",
      "30       192      Fatigue\n",
      "31       214      Fatigue\n",
      "32       220      Fatigue\n",
      "33       253  Not Fatigue\n",
      "34       264      Fatigue\n",
      "35       267      Fatigue\n",
      "36       301  Not Fatigue\n",
      "37       303      Fatigue\n",
      "38       315      Fatigue\n",
      "39       323  Not Fatigue\n",
      "40       327  Not Fatigue\n",
      "41       330  Not Fatigue\n"
     ]
    }
   ],
   "source": [
    "print(\"\\nFatigue Status for Each Track ID:\")\n",
    "print(fatigue_status)"
   ]
  }
 ],
 "metadata": {
  "kernelspec": {
   "display_name": "Python 3 (ipykernel)",
   "language": "python",
   "name": "python3"
  },
  "language_info": {
   "codemirror_mode": {
    "name": "ipython",
    "version": 3
   },
   "file_extension": ".py",
   "mimetype": "text/x-python",
   "name": "python",
   "nbconvert_exporter": "python",
   "pygments_lexer": "ipython3",
   "version": "3.10.5"
  }
 },
 "nbformat": 4,
 "nbformat_minor": 5
}
